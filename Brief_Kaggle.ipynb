{
 "cells": [
  {
   "cell_type": "code",
   "execution_count": 2,
   "id": "5f1e1128",
   "metadata": {
    "ExecuteTime": {
     "end_time": "2021-06-14T14:35:40.192436Z",
     "start_time": "2021-06-14T14:35:35.161678Z"
    }
   },
   "outputs": [],
   "source": [
    "import pandas as pd\n",
    "import numpy as np\n",
    "import seaborn as sns\n",
    "import matplotlib.pyplot as plt\n",
    "\n",
    "from sklearn.model_selection import train_test_split, GridSearchCV\n",
    "\n",
    "from sklearn.pipeline import make_pipeline\n",
    "from sklearn.compose import make_column_transformer\n",
    "\n",
    "from sklearn.preprocessing import MinMaxScaler, StandardScaler, RobustScaler, OneHotEncoder, OrdinalEncoder\n",
    "\n",
    "from sklearn.impute import SimpleImputer\n",
    "\n",
    "from sklearn.metrics import mean_squared_error, make_scorer, mean_squared_log_error\n",
    "\n",
    "from sklearn.model_selection import cross_val_score\n",
    "\n",
    "from sklearn.ensemble import RandomForestRegressor\n",
    "from sklearn.ensemble import StackingRegressor\n",
    "\n",
    "from sklearn.neighbors import KNeighborsClassifier\n",
    "\n",
    "\n",
    "from sklearn.linear_model import RidgeCV\n",
    "from sklearn.linear_model import ElasticNet\n",
    "from sklearn.linear_model import LassoCV\n",
    "from sklearn.linear_model import LinearRegression\n",
    "from sklearn.svm import SVR\n",
    "from sklearn.linear_model import SGDRegressor\n",
    "\n",
    "\n",
    "import warnings\n",
    "warnings.filterwarnings('ignore')\n",
    "\n",
    "from sklearn import set_config\n",
    "\n",
    "set_config(display='diagram')\n",
    "\n",
    "import datetime\n"
   ]
  },
  {
   "cell_type": "markdown",
   "id": "20c3ac9f",
   "metadata": {},
   "source": [
    "# Read CSV"
   ]
  },
  {
   "cell_type": "code",
   "execution_count": 3,
   "id": "a40299fb",
   "metadata": {
    "ExecuteTime": {
     "end_time": "2021-06-14T14:35:46.378044Z",
     "start_time": "2021-06-14T14:35:46.174784Z"
    }
   },
   "outputs": [],
   "source": [
    "data = pd.read_csv('train.csv')\n",
    "df = data.copy()"
   ]
  },
  {
   "cell_type": "markdown",
   "id": "e70b8131",
   "metadata": {},
   "source": [
    "# Preprocessing"
   ]
  },
  {
   "cell_type": "code",
   "execution_count": 4,
   "id": "eba3cfa5",
   "metadata": {
    "ExecuteTime": {
     "end_time": "2021-06-14T14:35:50.289443Z",
     "start_time": "2021-06-14T14:35:50.214199Z"
    }
   },
   "outputs": [],
   "source": [
    "encoted_column = df[['Neighborhood', 'SalePrice']].groupby(\n",
    "    ['Neighborhood'], as_index=False).mean().sort_values(by='SalePrice').reset_index(drop=True)\n",
    "ord_col = encoted_column.drop('SalePrice', axis=1)\n",
    "ord_col = list(ord_col.iloc[:, 0])\n",
    "df['Neighborhood'] = OrdinalEncoder(\n",
    "    categories=[ord_col]).fit_transform(df[['Neighborhood']])\n",
    "\n",
    "#numless\n",
    "df_corr = abs(df.corr())\n",
    "corrSalesprice = df_corr.sort_values('SalePrice',ascending=False)\n",
    "num_less20 = pd.DataFrame(corrSalesprice['SalePrice'] < 0.2)\n",
    "num_less20 = list(num_less20[num_less20.values == True].index)\n",
    "df = df.drop(num_less20, axis=1)"
   ]
  },
  {
   "cell_type": "markdown",
   "id": "2f230bd9",
   "metadata": {},
   "source": [
    "# Metrics"
   ]
  },
  {
   "cell_type": "code",
   "execution_count": 5,
   "id": "941a0c1c",
   "metadata": {
    "ExecuteTime": {
     "end_time": "2021-06-14T14:35:56.883773Z",
     "start_time": "2021-06-14T14:35:56.877889Z"
    }
   },
   "outputs": [],
   "source": [
    "def custom_metric(y, y_pred):\n",
    "    return np.sqrt(mean_squared_log_error(y, y_pred))\n",
    "\n",
    "custom_score = make_scorer(custom_metric, greater_is_better = False)"
   ]
  },
  {
   "cell_type": "markdown",
   "id": "a5dac346",
   "metadata": {},
   "source": [
    "# Modelisation"
   ]
  },
  {
   "cell_type": "code",
   "execution_count": 7,
   "id": "25cb9df7",
   "metadata": {
    "ExecuteTime": {
     "end_time": "2021-06-14T14:37:07.753626Z",
     "start_time": "2021-06-14T14:37:07.733384Z"
    }
   },
   "outputs": [],
   "source": [
    "X = df.drop('SalePrice', axis = 1)\n",
    "y = df.SalePrice\n",
    "\n",
    "cat_cols = X.select_dtypes(exclude = [np.number])\n",
    "num_cols = X.select_dtypes(include = [np.number])\n",
    "\n",
    "cat_pipe = make_pipeline(SimpleImputer(strategy = 'most_frequent'), OneHotEncoder(handle_unknown=\"ignore\"))\n",
    "#cat_pipe = make_pipeline(SimpleImputer(strategy = 'most_frequent'), OrdinalEncoder(handle_unknown = 'use_encoded_value',unknown_value = -1))\n",
    "num_pipe = make_pipeline(SimpleImputer(strategy = 'median'), RobustScaler())\n",
    "\n",
    "preprocessing = make_column_transformer((cat_pipe, cat_cols.columns), (num_pipe, num_cols.columns))\n",
    "\n",
    "\n",
    "model_1 = RidgeCV()\n",
    "model_2 = LassoCV()\n",
    "model_3 = RandomForestRegressor()\n",
    "model_4 = SVR()\n",
    "\n",
    "\n",
    "model_final = StackingRegressor([('RidgeCV', model_1),\n",
    "                           ('LassoCV', model_2),\n",
    "                           ('RandomForestRegressor', model_3),\n",
    "                                 ('SVR', model_4),\n",
    "                                ],\n",
    "                                \n",
    "                         final_estimator = RidgeCV())\n",
    "\n",
    "model = make_pipeline(preprocessing, model_final)"
   ]
  },
  {
   "cell_type": "markdown",
   "id": "84253308",
   "metadata": {},
   "source": [
    "# Cross Validation"
   ]
  },
  {
   "cell_type": "code",
   "execution_count": 8,
   "id": "64106e63",
   "metadata": {
    "ExecuteTime": {
     "end_time": "2021-06-14T14:48:01.622825Z",
     "start_time": "2021-06-14T14:37:11.841260Z"
    }
   },
   "outputs": [
    {
     "data": {
      "text/plain": [
       "-0.13551688421347868"
      ]
     },
     "execution_count": 8,
     "metadata": {},
     "output_type": "execute_result"
    }
   ],
   "source": [
    "cross_val_score(model, X, y, cv=5, scoring=custom_score, error_score=\"raise\").mean()"
   ]
  },
  {
   "cell_type": "code",
   "execution_count": 9,
   "id": "24e26e6b",
   "metadata": {
    "ExecuteTime": {
     "end_time": "2021-06-14T14:58:44.040503Z",
     "start_time": "2021-06-14T14:48:01.945859Z"
    }
   },
   "outputs": [
    {
     "data": {
      "text/plain": [
       "0.8657478449258595"
      ]
     },
     "execution_count": 9,
     "metadata": {},
     "output_type": "execute_result"
    }
   ],
   "source": [
    "cross_val_score(model, X, y, cv=5, scoring='r2', error_score=\"raise\").mean()"
   ]
  },
  {
   "cell_type": "code",
   "execution_count": null,
   "id": "5c05060c",
   "metadata": {
    "ExecuteTime": {
     "start_time": "2021-06-12T08:31:54.378Z"
    }
   },
   "outputs": [],
   "source": [
    "#params = {\n",
    " #       'randomforestregressor__n_estimators': [50,100,150],\n",
    " #       'randomforestregressor__bootstrap': [True, False]\n",
    " #       }\n",
    "\n",
    "#grid = GridSearchCV(model, param_grid = params, cv=5, scoring = custom_score)\n",
    "\n",
    "#grid.fit(X, y)\n",
    "\n",
    "#print(grid.best_params_)\n",
    "#print(f\"Best Score = {grid.best_score_}\")\n",
    "#grid_model = grid.best_estimator_"
   ]
  },
  {
   "cell_type": "markdown",
   "id": "ec652c13",
   "metadata": {},
   "source": [
    "# Final Train"
   ]
  },
  {
   "cell_type": "code",
   "execution_count": 10,
   "id": "59fd0239",
   "metadata": {
    "ExecuteTime": {
     "end_time": "2021-06-14T15:03:22.803904Z",
     "start_time": "2021-06-14T15:00:23.084210Z"
    }
   },
   "outputs": [],
   "source": [
    "model_fit = model.fit(X,y)"
   ]
  },
  {
   "cell_type": "markdown",
   "id": "a991046c",
   "metadata": {},
   "source": [
    "# Preprocessing Test"
   ]
  },
  {
   "cell_type": "code",
   "execution_count": 13,
   "id": "555ba467",
   "metadata": {
    "ExecuteTime": {
     "end_time": "2021-06-14T15:04:37.261684Z",
     "start_time": "2021-06-14T15:04:37.115795Z"
    }
   },
   "outputs": [],
   "source": [
    "def transform(df, ord_col, num_less20):\n",
    "    \n",
    "    #Encode Neighborhood    \n",
    "    df['Neighborhood'] = OrdinalEncoder(categories=[ord_col]).fit_transform(df[['Neighborhood']])\n",
    "    \n",
    "    #drop cat which have more than 10 unique values\n",
    "    df = df.drop(num_less20, axis = 1)    \n",
    "    return df\n",
    "    \n",
    "X_test = pd.read_csv('test.csv')    \n",
    "X_test1 = transform(X_test, ord_col, num_less20)     "
   ]
  },
  {
   "cell_type": "markdown",
   "id": "d0356936",
   "metadata": {},
   "source": [
    "# Submission"
   ]
  },
  {
   "cell_type": "code",
   "execution_count": 14,
   "id": "cdcae0be",
   "metadata": {
    "ExecuteTime": {
     "end_time": "2021-06-14T15:04:40.087763Z",
     "start_time": "2021-06-14T15:04:39.219596Z"
    }
   },
   "outputs": [],
   "source": [
    "submission = pd.DataFrame({'Id':X_test['Id'],'SalePrice': model_fit.predict(X_test1)})"
   ]
  },
  {
   "cell_type": "code",
   "execution_count": 15,
   "id": "6e10859c",
   "metadata": {
    "ExecuteTime": {
     "end_time": "2021-06-14T15:04:43.461370Z",
     "start_time": "2021-06-14T15:04:43.431941Z"
    }
   },
   "outputs": [],
   "source": [
    "submission.to_csv('submission2.csv', index=False)"
   ]
  }
 ],
 "metadata": {
  "kernelspec": {
   "display_name": "Python 3",
   "language": "python",
   "name": "python3"
  },
  "language_info": {
   "codemirror_mode": {
    "name": "ipython",
    "version": 3
   },
   "file_extension": ".py",
   "mimetype": "text/x-python",
   "name": "python",
   "nbconvert_exporter": "python",
   "pygments_lexer": "ipython3",
   "version": "3.8.10"
  },
  "toc": {
   "base_numbering": 1,
   "nav_menu": {},
   "number_sections": false,
   "sideBar": true,
   "skip_h1_title": false,
   "title_cell": "Table of Contents",
   "title_sidebar": "Contents",
   "toc_cell": false,
   "toc_position": {},
   "toc_section_display": true,
   "toc_window_display": false
  },
  "varInspector": {
   "cols": {
    "lenName": 16,
    "lenType": 16,
    "lenVar": 40
   },
   "kernels_config": {
    "python": {
     "delete_cmd_postfix": "",
     "delete_cmd_prefix": "del ",
     "library": "var_list.py",
     "varRefreshCmd": "print(var_dic_list())"
    },
    "r": {
     "delete_cmd_postfix": ") ",
     "delete_cmd_prefix": "rm(",
     "library": "var_list.r",
     "varRefreshCmd": "cat(var_dic_list()) "
    }
   },
   "types_to_exclude": [
    "module",
    "function",
    "builtin_function_or_method",
    "instance",
    "_Feature"
   ],
   "window_display": false
  }
 },
 "nbformat": 4,
 "nbformat_minor": 5
}
